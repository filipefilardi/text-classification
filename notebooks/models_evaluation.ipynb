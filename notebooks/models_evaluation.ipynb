{
 "cells": [
  {
   "cell_type": "code",
   "execution_count": 1,
   "metadata": {},
   "outputs": [],
   "source": [
    "import math\n",
    "import pandas as pd\n",
    "\n",
    "from time import perf_counter \n",
    "from tqdm import tqdm\n",
    "from sklearn.metrics import accuracy_score\n",
    "from sklearn.naive_bayes import GaussianNB\n",
    "from sklearn.neural_network import MLPClassifier\n",
    "from sklearn.neighbors import KNeighborsClassifier\n",
    "from sklearn.ensemble import RandomForestClassifier\n",
    "from sklearn.model_selection import StratifiedKFold"
   ]
  },
  {
   "cell_type": "markdown",
   "metadata": {},
   "source": [
    "## Read dataset"
   ]
  },
  {
   "cell_type": "code",
   "execution_count": 2,
   "metadata": {},
   "outputs": [
    {
     "name": "stdout",
     "output_type": "stream",
     "text": [
      "Wall time: 3min 22s\n"
     ]
    }
   ],
   "source": [
    "%%time\n",
    "df_full = pd.read_csv('../data/processed/newsgroup_vectorized.gz', compression='gzip')"
   ]
  },
  {
   "cell_type": "markdown",
   "metadata": {},
   "source": [
    "## Configure models to test"
   ]
  },
  {
   "cell_type": "code",
   "execution_count": 3,
   "metadata": {},
   "outputs": [],
   "source": [
    "dict_models = {}"
   ]
  },
  {
   "cell_type": "markdown",
   "metadata": {},
   "source": [
    "### Gaussian Naive Bayes"
   ]
  },
  {
   "cell_type": "code",
   "execution_count": 4,
   "metadata": {},
   "outputs": [],
   "source": [
    "dict_models['Gaussian Naive Bayes (var_smoothing=1e-09)'] = {\n",
    "    'model' : GaussianNB()\n",
    "}"
   ]
  },
  {
   "cell_type": "markdown",
   "metadata": {},
   "source": [
    "### Multi-layer Perceptron"
   ]
  },
  {
   "cell_type": "code",
   "execution_count": 5,
   "metadata": {},
   "outputs": [],
   "source": [
    "for activation in ['relu', 'tanh']:\n",
    "    for lr in [0.001, 0.01, 0.1]:\n",
    "        for n_layers in [10, 100, round(math.sqrt(df_full.shape[1]))]:\n",
    "            dict_models[f'MLP (layers={n_layers}, lr={lr}, {activation})'] = {\n",
    "                'model' : MLPClassifier(hidden_layer_sizes=(n_layers, ), activation=activation, learning_rate_init=lr)\n",
    "            }"
   ]
  },
  {
   "cell_type": "markdown",
   "metadata": {},
   "source": [
    "### Random Forest"
   ]
  },
  {
   "cell_type": "code",
   "execution_count": 6,
   "metadata": {},
   "outputs": [],
   "source": [
    "for max_features in [\"sqrt\", \"log2\"]:\n",
    "    for n_estimators in [1, 10, 100, 500, 1000]:\n",
    "        dict_models[f'Random Forest (n_tree={n_estimators}, max_feat={max_features})'] = {\n",
    "            'model' : RandomForestClassifier(n_estimators=n_estimators, max_features=max_features)\n",
    "        }"
   ]
  },
  {
   "cell_type": "markdown",
   "metadata": {},
   "source": [
    "### KNN"
   ]
  },
  {
   "cell_type": "code",
   "execution_count": 7,
   "metadata": {},
   "outputs": [],
   "source": [
    "for n_neighbors in [5, 27, 81, round(math.sqrt(df_full.shape[0]))]:\n",
    "    dict_models[f'KNN (n_neighbors={n_neighbors})'] = {\n",
    "        'model' : KNeighborsClassifier(n_neighbors=n_neighbors)\n",
    "    }"
   ]
  },
  {
   "cell_type": "markdown",
   "metadata": {},
   "source": [
    "## Stratified K-fold Cross Validation"
   ]
  },
  {
   "cell_type": "code",
   "execution_count": 8,
   "metadata": {},
   "outputs": [
    {
     "name": "stderr",
     "output_type": "stream",
     "text": [
      "5it [23:48:33, 17142.62s/it]\n"
     ]
    },
    {
     "name": "stdout",
     "output_type": "stream",
     "text": [
      "Wall time: 23h 48min 34s\n"
     ]
    }
   ],
   "source": [
    "%%time\n",
    "\n",
    "skf = StratifiedKFold(n_splits=5, random_state=42)\n",
    "\n",
    "X = df_full.drop(columns={'target'})\n",
    "y = df_full[['target']]\n",
    "\n",
    "fold_count = 1\n",
    "list_result = []\n",
    "for train_index, test_index in tqdm(skf.split(X, y)):\n",
    "    X_train = X.iloc[train_index]\n",
    "    X_test = X.iloc[test_index]\n",
    "    y_train = y.iloc[train_index]['target']\n",
    "    y_test = y.iloc[test_index]['target']\n",
    "    \n",
    "    for model_name in dict_models:\n",
    "        \n",
    "        # training\n",
    "        start_time = perf_counter()\n",
    "        model = dict_models[model_name]['model']\n",
    "        model.fit(X_train, y_train)\n",
    "        end_time = perf_counter()\n",
    "        \n",
    "        # application\n",
    "        start_time_app = perf_counter()\n",
    "        y_hat = model.predict(X_test)\n",
    "        end_time_app = perf_counter()        \n",
    "\n",
    "        # append result\n",
    "        list_result.append({\n",
    "            'model_name' : model_name,\n",
    "            'fold' : fold_count,\n",
    "            'time_train' : round(end_time - start_time, 3),\n",
    "            'time_application' : round(end_time_app - start_time_app, 3),\n",
    "            'y_hat' : y_hat,\n",
    "            'accuracy' : accuracy_score(y_test, y_hat),\n",
    "        })\n",
    "        \n",
    "    fold_count = fold_count + 1"
   ]
  },
  {
   "cell_type": "code",
   "execution_count": 14,
   "metadata": {},
   "outputs": [],
   "source": [
    "df_metrics = pd.DataFrame(list_result)"
   ]
  },
  {
   "cell_type": "markdown",
   "metadata": {},
   "source": [
    "## Save result "
   ]
  },
  {
   "cell_type": "code",
   "execution_count": 11,
   "metadata": {},
   "outputs": [],
   "source": [
    "df_metrics.drop(columns={'y_hat'}).to_csv('../metrics/models_evaluation.csv', sep=';', index=False)"
   ]
  },
  {
   "cell_type": "markdown",
   "metadata": {},
   "source": [
    "## Evaluate"
   ]
  },
  {
   "cell_type": "markdown",
   "metadata": {},
   "source": [
    "### Top 10 models\n",
    "\n",
    "avg accuracy for all folds"
   ]
  },
  {
   "cell_type": "code",
   "execution_count": 24,
   "metadata": {},
   "outputs": [
    {
     "data": {
      "text/html": [
       "<div>\n",
       "<style scoped>\n",
       "    .dataframe tbody tr th:only-of-type {\n",
       "        vertical-align: middle;\n",
       "    }\n",
       "\n",
       "    .dataframe tbody tr th {\n",
       "        vertical-align: top;\n",
       "    }\n",
       "\n",
       "    .dataframe thead th {\n",
       "        text-align: right;\n",
       "    }\n",
       "</style>\n",
       "<table border=\"1\" class=\"dataframe\">\n",
       "  <thead>\n",
       "    <tr style=\"text-align: right;\">\n",
       "      <th></th>\n",
       "      <th>accuracy</th>\n",
       "    </tr>\n",
       "    <tr>\n",
       "      <th>model_name</th>\n",
       "      <th></th>\n",
       "    </tr>\n",
       "  </thead>\n",
       "  <tbody>\n",
       "    <tr>\n",
       "      <td>MLP (layers=100, lr=0.001, tanh)</td>\n",
       "      <td>0.843374</td>\n",
       "    </tr>\n",
       "    <tr>\n",
       "      <td>MLP (layers=132, lr=0.001, tanh)</td>\n",
       "      <td>0.843000</td>\n",
       "    </tr>\n",
       "    <tr>\n",
       "      <td>MLP (layers=132, lr=0.001, relu)</td>\n",
       "      <td>0.842948</td>\n",
       "    </tr>\n",
       "    <tr>\n",
       "      <td>MLP (layers=100, lr=0.001, relu)</td>\n",
       "      <td>0.842840</td>\n",
       "    </tr>\n",
       "    <tr>\n",
       "      <td>MLP (layers=10, lr=0.001, tanh)</td>\n",
       "      <td>0.823194</td>\n",
       "    </tr>\n",
       "    <tr>\n",
       "      <td>Random Forest (n_tree=1000, max_feat=log2)</td>\n",
       "      <td>0.817243</td>\n",
       "    </tr>\n",
       "    <tr>\n",
       "      <td>Random Forest (n_tree=500, max_feat=log2)</td>\n",
       "      <td>0.816711</td>\n",
       "    </tr>\n",
       "    <tr>\n",
       "      <td>MLP (layers=10, lr=0.001, relu)</td>\n",
       "      <td>0.815386</td>\n",
       "    </tr>\n",
       "    <tr>\n",
       "      <td>MLP (layers=10, lr=0.01, tanh)</td>\n",
       "      <td>0.807417</td>\n",
       "    </tr>\n",
       "    <tr>\n",
       "      <td>MLP (layers=132, lr=0.01, relu)</td>\n",
       "      <td>0.804397</td>\n",
       "    </tr>\n",
       "  </tbody>\n",
       "</table>\n",
       "</div>"
      ],
      "text/plain": [
       "                                            accuracy\n",
       "model_name                                          \n",
       "MLP (layers=100, lr=0.001, tanh)            0.843374\n",
       "MLP (layers=132, lr=0.001, tanh)            0.843000\n",
       "MLP (layers=132, lr=0.001, relu)            0.842948\n",
       "MLP (layers=100, lr=0.001, relu)            0.842840\n",
       "MLP (layers=10, lr=0.001, tanh)             0.823194\n",
       "Random Forest (n_tree=1000, max_feat=log2)  0.817243\n",
       "Random Forest (n_tree=500, max_feat=log2)   0.816711\n",
       "MLP (layers=10, lr=0.001, relu)             0.815386\n",
       "MLP (layers=10, lr=0.01, tanh)              0.807417\n",
       "MLP (layers=132, lr=0.01, relu)             0.804397"
      ]
     },
     "execution_count": 24,
     "metadata": {},
     "output_type": "execute_result"
    }
   ],
   "source": [
    "df_metrics.groupby('model_name').agg({'accuracy' : 'mean'}).sort_values('accuracy', ascending=False).head(10)"
   ]
  },
  {
   "cell_type": "markdown",
   "metadata": {},
   "source": [
    "### Best model \n",
    "\n",
    "We look the best model overall (mean accuracy in all folds)."
   ]
  },
  {
   "cell_type": "code",
   "execution_count": 35,
   "metadata": {},
   "outputs": [],
   "source": [
    "best_model = df_metrics \\\n",
    "    .groupby('model_name') \\\n",
    "    .agg({'accuracy' : 'mean'}) \\\n",
    "    .sort_values('accuracy', ascending=False).head(1).index[0]\n",
    "\n",
    "best_fold = df_metrics[df_metrics['model_name'] == best_model] \\\n",
    "    .sort_values('accuracy', ascending=False)['fold'] \\\n",
    "    .values[0]"
   ]
  },
  {
   "cell_type": "code",
   "execution_count": 39,
   "metadata": {},
   "outputs": [
    {
     "data": {
      "text/html": [
       "<div>\n",
       "<style scoped>\n",
       "    .dataframe tbody tr th:only-of-type {\n",
       "        vertical-align: middle;\n",
       "    }\n",
       "\n",
       "    .dataframe tbody tr th {\n",
       "        vertical-align: top;\n",
       "    }\n",
       "\n",
       "    .dataframe thead th {\n",
       "        text-align: right;\n",
       "    }\n",
       "</style>\n",
       "<table border=\"1\" class=\"dataframe\">\n",
       "  <thead>\n",
       "    <tr style=\"text-align: right;\">\n",
       "      <th></th>\n",
       "      <th>model_name</th>\n",
       "      <th>fold</th>\n",
       "      <th>time_train</th>\n",
       "      <th>time_application</th>\n",
       "      <th>y_hat</th>\n",
       "      <th>accuracy</th>\n",
       "    </tr>\n",
       "  </thead>\n",
       "  <tbody>\n",
       "    <tr>\n",
       "      <td>44</td>\n",
       "      <td>MLP (layers=100, lr=0.001, tanh)</td>\n",
       "      <td>2</td>\n",
       "      <td>781.306</td>\n",
       "      <td>0.354</td>\n",
       "      <td>[alt.atheism, soc.religion.christian, sci.spac...</td>\n",
       "      <td>0.862298</td>\n",
       "    </tr>\n",
       "  </tbody>\n",
       "</table>\n",
       "</div>"
      ],
      "text/plain": [
       "                          model_name  fold  time_train  time_application  \\\n",
       "44  MLP (layers=100, lr=0.001, tanh)     2     781.306             0.354   \n",
       "\n",
       "                                                y_hat  accuracy  \n",
       "44  [alt.atheism, soc.religion.christian, sci.spac...  0.862298  "
      ]
     },
     "execution_count": 39,
     "metadata": {},
     "output_type": "execute_result"
    }
   ],
   "source": [
    "df_metrics[(df_metrics['model_name'] == best_model) & (df_metrics['fold'] == best_fold)]"
   ]
  },
  {
   "cell_type": "markdown",
   "metadata": {},
   "source": [
    "### Error analysis"
   ]
  },
  {
   "cell_type": "code",
   "execution_count": null,
   "metadata": {},
   "outputs": [],
   "source": [
    "# Get ground truth for best fold\n",
    "fold_count = 1\n",
    "for train_index, test_index in skf.split(X, y):\n",
    "    if fold_count == best_fold:\n",
    "        y_test = y.iloc[test_index]['target']\n",
    "        break\n",
    "    fold_count = fold_count + 1\n",
    "\n",
    "# Create dataset\n",
    "df_validation = pd.DataFrame()\n",
    "df_validation['y'] = y_test\n",
    "df_validation['y_hat'] = df_metrics[(df_metrics['model_name'] == best_model) & (df_metrics['fold'] == best_fold)]['y_hat'].values[0]"
   ]
  },
  {
   "cell_type": "code",
   "execution_count": 68,
   "metadata": {},
   "outputs": [],
   "source": [
    "df_tp = df_validation[df_validation['y'] == df_validation['y_hat']].groupby('y_hat').size()\n",
    "df_fn = df_validation[df_validation['y'] != df_validation['y_hat']].groupby('y').size()\n",
    "df_fp = df_validation[df_validation['y'] != df_validation['y_hat']].groupby('y_hat').size()\n",
    "\n",
    "list_metrics = []\n",
    "for target_class in df_validation['y'].unique():\n",
    "    list_metrics.append({\n",
    "        'class' : target_class,\n",
    "        'precision' : round(df_tp.loc[target_class] / (df_tp.loc[target_class] + df_fp.loc[target_class]), 2),\n",
    "        'recall' : round(df_tp.loc[target_class] / (df_tp.loc[target_class] + df_fn.loc[target_class]), 2),\n",
    "    })"
   ]
  },
  {
   "cell_type": "code",
   "execution_count": 71,
   "metadata": {},
   "outputs": [],
   "source": [
    "df_error = pd.DataFrame(list_metrics).sort_values('class')\n",
    "df_error.to_csv('../metrics/best_model_error_by_class.csv', sep=';', index=False)"
   ]
  },
  {
   "cell_type": "code",
   "execution_count": 72,
   "metadata": {},
   "outputs": [
    {
     "data": {
      "text/html": [
       "<div>\n",
       "<style scoped>\n",
       "    .dataframe tbody tr th:only-of-type {\n",
       "        vertical-align: middle;\n",
       "    }\n",
       "\n",
       "    .dataframe tbody tr th {\n",
       "        vertical-align: top;\n",
       "    }\n",
       "\n",
       "    .dataframe thead th {\n",
       "        text-align: right;\n",
       "    }\n",
       "</style>\n",
       "<table border=\"1\" class=\"dataframe\">\n",
       "  <thead>\n",
       "    <tr style=\"text-align: right;\">\n",
       "      <th></th>\n",
       "      <th>class</th>\n",
       "      <th>precision</th>\n",
       "      <th>recall</th>\n",
       "    </tr>\n",
       "  </thead>\n",
       "  <tbody>\n",
       "    <tr>\n",
       "      <td>0</td>\n",
       "      <td>alt.atheism</td>\n",
       "      <td>0.85</td>\n",
       "      <td>0.89</td>\n",
       "    </tr>\n",
       "    <tr>\n",
       "      <td>1</td>\n",
       "      <td>comp.graphics</td>\n",
       "      <td>0.73</td>\n",
       "      <td>0.81</td>\n",
       "    </tr>\n",
       "    <tr>\n",
       "      <td>2</td>\n",
       "      <td>comp.os.ms-windows.misc</td>\n",
       "      <td>0.75</td>\n",
       "      <td>0.62</td>\n",
       "    </tr>\n",
       "    <tr>\n",
       "      <td>3</td>\n",
       "      <td>comp.sys.ibm.pc.hardware</td>\n",
       "      <td>0.70</td>\n",
       "      <td>0.79</td>\n",
       "    </tr>\n",
       "    <tr>\n",
       "      <td>4</td>\n",
       "      <td>comp.sys.mac.hardware</td>\n",
       "      <td>0.78</td>\n",
       "      <td>0.83</td>\n",
       "    </tr>\n",
       "    <tr>\n",
       "      <td>5</td>\n",
       "      <td>comp.windows.x</td>\n",
       "      <td>0.87</td>\n",
       "      <td>0.87</td>\n",
       "    </tr>\n",
       "    <tr>\n",
       "      <td>6</td>\n",
       "      <td>misc.forsale</td>\n",
       "      <td>0.75</td>\n",
       "      <td>0.81</td>\n",
       "    </tr>\n",
       "    <tr>\n",
       "      <td>7</td>\n",
       "      <td>rec.autos</td>\n",
       "      <td>0.91</td>\n",
       "      <td>0.87</td>\n",
       "    </tr>\n",
       "    <tr>\n",
       "      <td>8</td>\n",
       "      <td>rec.motorcycles</td>\n",
       "      <td>0.97</td>\n",
       "      <td>0.93</td>\n",
       "    </tr>\n",
       "    <tr>\n",
       "      <td>9</td>\n",
       "      <td>rec.sport.baseball</td>\n",
       "      <td>0.97</td>\n",
       "      <td>0.94</td>\n",
       "    </tr>\n",
       "    <tr>\n",
       "      <td>10</td>\n",
       "      <td>rec.sport.hockey</td>\n",
       "      <td>0.94</td>\n",
       "      <td>0.98</td>\n",
       "    </tr>\n",
       "    <tr>\n",
       "      <td>11</td>\n",
       "      <td>sci.crypt</td>\n",
       "      <td>0.96</td>\n",
       "      <td>0.89</td>\n",
       "    </tr>\n",
       "    <tr>\n",
       "      <td>12</td>\n",
       "      <td>sci.electronics</td>\n",
       "      <td>0.85</td>\n",
       "      <td>0.80</td>\n",
       "    </tr>\n",
       "    <tr>\n",
       "      <td>13</td>\n",
       "      <td>sci.med</td>\n",
       "      <td>0.92</td>\n",
       "      <td>0.90</td>\n",
       "    </tr>\n",
       "    <tr>\n",
       "      <td>14</td>\n",
       "      <td>sci.space</td>\n",
       "      <td>0.94</td>\n",
       "      <td>0.93</td>\n",
       "    </tr>\n",
       "    <tr>\n",
       "      <td>15</td>\n",
       "      <td>soc.religion.christian</td>\n",
       "      <td>0.89</td>\n",
       "      <td>0.90</td>\n",
       "    </tr>\n",
       "    <tr>\n",
       "      <td>16</td>\n",
       "      <td>talk.politics.guns</td>\n",
       "      <td>0.90</td>\n",
       "      <td>0.92</td>\n",
       "    </tr>\n",
       "    <tr>\n",
       "      <td>17</td>\n",
       "      <td>talk.politics.mideast</td>\n",
       "      <td>0.93</td>\n",
       "      <td>0.93</td>\n",
       "    </tr>\n",
       "    <tr>\n",
       "      <td>18</td>\n",
       "      <td>talk.politics.misc</td>\n",
       "      <td>0.84</td>\n",
       "      <td>0.90</td>\n",
       "    </tr>\n",
       "    <tr>\n",
       "      <td>19</td>\n",
       "      <td>talk.religion.misc</td>\n",
       "      <td>0.78</td>\n",
       "      <td>0.72</td>\n",
       "    </tr>\n",
       "  </tbody>\n",
       "</table>\n",
       "</div>"
      ],
      "text/plain": [
       "                       class  precision  recall\n",
       "0                alt.atheism       0.85    0.89\n",
       "1              comp.graphics       0.73    0.81\n",
       "2    comp.os.ms-windows.misc       0.75    0.62\n",
       "3   comp.sys.ibm.pc.hardware       0.70    0.79\n",
       "4      comp.sys.mac.hardware       0.78    0.83\n",
       "5             comp.windows.x       0.87    0.87\n",
       "6               misc.forsale       0.75    0.81\n",
       "7                  rec.autos       0.91    0.87\n",
       "8            rec.motorcycles       0.97    0.93\n",
       "9         rec.sport.baseball       0.97    0.94\n",
       "10          rec.sport.hockey       0.94    0.98\n",
       "11                 sci.crypt       0.96    0.89\n",
       "12           sci.electronics       0.85    0.80\n",
       "13                   sci.med       0.92    0.90\n",
       "14                 sci.space       0.94    0.93\n",
       "15    soc.religion.christian       0.89    0.90\n",
       "16        talk.politics.guns       0.90    0.92\n",
       "17     talk.politics.mideast       0.93    0.93\n",
       "18        talk.politics.misc       0.84    0.90\n",
       "19        talk.religion.misc       0.78    0.72"
      ]
     },
     "execution_count": 72,
     "metadata": {},
     "output_type": "execute_result"
    }
   ],
   "source": [
    "df_error"
   ]
  }
 ],
 "metadata": {
  "kernelspec": {
   "display_name": "Python 3",
   "language": "python",
   "name": "python3"
  },
  "language_info": {
   "codemirror_mode": {
    "name": "ipython",
    "version": 3
   },
   "file_extension": ".py",
   "mimetype": "text/x-python",
   "name": "python",
   "nbconvert_exporter": "python",
   "pygments_lexer": "ipython3",
   "version": "3.7.4"
  },
  "toc": {
   "base_numbering": 1,
   "nav_menu": {},
   "number_sections": true,
   "sideBar": true,
   "skip_h1_title": true,
   "title_cell": "Table of Contents",
   "title_sidebar": "Contents",
   "toc_cell": false,
   "toc_position": {},
   "toc_section_display": true,
   "toc_window_display": true
  }
 },
 "nbformat": 4,
 "nbformat_minor": 2
}
